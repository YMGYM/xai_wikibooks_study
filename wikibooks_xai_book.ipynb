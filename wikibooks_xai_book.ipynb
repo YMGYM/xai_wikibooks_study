{
  "nbformat": 4,
  "nbformat_minor": 0,
  "metadata": {
    "colab": {
      "name": "wikibooks_xai_book.ipynb",
      "provenance": [],
      "authorship_tag": "ABX9TyPB2L9a5GOgy3Q+SkPxz76e",
      "include_colab_link": true
    },
    "kernelspec": {
      "name": "python3",
      "display_name": "Python 3"
    },
    "language_info": {
      "name": "python"
    }
  },
  "cells": [
    {
      "cell_type": "markdown",
      "metadata": {
        "id": "view-in-github",
        "colab_type": "text"
      },
      "source": [
        "<a href=\"https://colab.research.google.com/github/YMGYM/xai_wikibooks_study/blob/main/wikibooks_xai_book.ipynb\" target=\"_parent\"><img src=\"https://colab.research.google.com/assets/colab-badge.svg\" alt=\"Open In Colab\"/></a>"
      ]
    },
    {
      "cell_type": "markdown",
      "metadata": {
        "id": "4Z8RnKxmgEe4"
      },
      "source": [
        "# 개요\n",
        "\n",
        "이 파일은 \n",
        "[<<XAI 설명 가능한 인공지능, 인공지능을 해부하다>>](https://github.com/wikibook/xai)\n",
        "에 대한 코드 실습 및 제가 공부한 내용을 작성하는 노트입니다."
      ]
    },
    {
      "cell_type": "code",
      "metadata": {
        "id": "elnSGV0gf1f4"
      },
      "source": [
        ""
      ],
      "execution_count": null,
      "outputs": []
    }
  ]
}